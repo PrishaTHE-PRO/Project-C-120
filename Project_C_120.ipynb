{
  "nbformat": 4,
  "nbformat_minor": 0,
  "metadata": {
    "colab": {
      "name": "Project C-120",
      "provenance": [],
      "collapsed_sections": [],
      "authorship_tag": "ABX9TyNRynmbEiO+dZY+fX+fmhm3",
      "include_colab_link": true
    },
    "kernelspec": {
      "name": "python3",
      "display_name": "Python 3"
    },
    "language_info": {
      "name": "python"
    }
  },
  "cells": [
    {
      "cell_type": "markdown",
      "metadata": {
        "id": "view-in-github",
        "colab_type": "text"
      },
      "source": [
        "<a href=\"https://colab.research.google.com/github/PrishaTHE-PRO/Project-C-120/blob/main/Project_C_120.ipynb\" target=\"_parent\"><img src=\"https://colab.research.google.com/assets/colab-badge.svg\" alt=\"Open In Colab\"/></a>"
      ]
    },
    {
      "cell_type": "code",
      "metadata": {
        "id": "9gsVLSC1AeeI"
      },
      "source": [
        "from sklearn import datasets \n",
        "wine=datasets.load_wine()"
      ],
      "execution_count": null,
      "outputs": []
    },
    {
      "cell_type": "code",
      "metadata": {
        "colab": {
          "base_uri": "https://localhost:8080/"
        },
        "id": "C0nJK5B8Ayfe",
        "outputId": "de993202-dcde-4297-dbb3-2a810c9a2f43"
      },
      "source": [
        "print('features',wine.feature_names)\n",
        "print('labels',wine.target_names)"
      ],
      "execution_count": null,
      "outputs": [
        {
          "output_type": "stream",
          "text": [
            "features ['alcohol', 'malic_acid', 'ash', 'alcalinity_of_ash', 'magnesium', 'total_phenols', 'flavanoids', 'nonflavanoid_phenols', 'proanthocyanins', 'color_intensity', 'hue', 'od280/od315_of_diluted_wines', 'proline']\n",
            "labels ['class_0' 'class_1' 'class_2']\n"
          ],
          "name": "stdout"
        }
      ]
    },
    {
      "cell_type": "code",
      "metadata": {
        "id": "d-euyspYBNPb"
      },
      "source": [
        "from sklearn.model_selection import train_test_split\n",
        "X=wine.data\n",
        "y=wine.target\n",
        "x_train,x_test,y_train,y_test=train_test_split(X,y,test_size=0.3,random_state=42)"
      ],
      "execution_count": null,
      "outputs": []
    },
    {
      "cell_type": "code",
      "metadata": {
        "colab": {
          "base_uri": "https://localhost:8080/"
        },
        "id": "LlpIC5S_BiLc",
        "outputId": "c5ede3ae-9291-4e42-d61a-1aee6ef802d3"
      },
      "source": [
        "from sklearn.naive_bayes import GaussianNB\n",
        "from sklearn.metrics import accuracy_score\n",
        "from sklearn.preprocessing import StandardScaler \n",
        "\n",
        "sc=StandardScaler()\n",
        "x_train=sc.fit_transform(x_train)\n",
        "x_test=sc.fit_transform(x_test)\n",
        "model=GaussianNB()\n",
        "model.fit(x_train,y_train)\n",
        "y_pred=model.predict(x_test)\n",
        "accuracy=accuracy_score(y_test,y_pred)\n",
        "print(accuracy*100)"
      ],
      "execution_count": null,
      "outputs": [
        {
          "output_type": "stream",
          "text": [
            "100.0\n"
          ],
          "name": "stdout"
        }
      ]
    },
    {
      "cell_type": "code",
      "metadata": {
        "id": "ykaUPU5_Bsaa"
      },
      "source": [
        "from sklearn.model_selection import train_test_split\n",
        "X=wine.data\n",
        "y=wine.target\n",
        "x_train_1,x_test_1,y_train_1,y_test_1=train_test_split(X,y,test_size=0.3,random_state=42)"
      ],
      "execution_count": null,
      "outputs": []
    },
    {
      "cell_type": "code",
      "metadata": {
        "colab": {
          "base_uri": "https://localhost:8080/"
        },
        "id": "QV8SHBRAB1GJ",
        "outputId": "9d2a187d-f4b1-4098-fb00-d88f89362199"
      },
      "source": [
        "from sklearn.linear_model import LogisticRegression\n",
        "from sklearn.metrics import accuracy_score\n",
        "from sklearn.preprocessing import StandardScaler \n",
        "\n",
        "sc=StandardScaler()\n",
        "x_train_1=sc.fit_transform(x_train_1)\n",
        "x_test_1=sc.fit_transform(x_test_1)\n",
        "model_1=LogisticRegression()\n",
        "model_1.fit(x_train_1,y_train_1)\n",
        "y_pred_1=model_1.predict(x_test_1)\n",
        "accuracy=accuracy_score(y_test_1,y_pred_1)\n",
        "print(accuracy*100)"
      ],
      "execution_count": null,
      "outputs": [
        {
          "output_type": "stream",
          "text": [
            "98.14814814814815\n"
          ],
          "name": "stdout"
        }
      ]
    }
  ]
}